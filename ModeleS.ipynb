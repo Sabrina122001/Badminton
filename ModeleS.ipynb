{
 "cells": [
  {
   "cell_type": "code",
   "execution_count": 1,
   "metadata": {},
   "outputs": [],
   "source": [
    "import pandas as pd \n",
    "import numpy as np \n",
    "import matplotlib.pyplot as plt \n"
   ]
  },
  {
   "cell_type": "code",
   "execution_count": 4,
   "metadata": {},
   "outputs": [
    {
     "name": "stdout",
     "output_type": "stream",
     "text": [
      "[ 2.  3. nan  1.]\n",
      "[ 5.  2.  3.  4. nan  1.  6.]\n"
     ]
    }
   ],
   "source": [
    "\n",
    "\n",
    "# Charger le DataFrame \n",
    "df = pd.read_excel('Singles.xlsx')\n",
    "\n",
    "# au préalable , j'ai ajouté quelques colonnes dans ma base de donnée à partir des autres bases fournies \n",
    "# Afficher les valeurs uniques des colonnes level et grade \n",
    "valeurs_uniques = df['Grade'].unique()\n",
    "valeurs_uniques1 = df['Level'].unique()\n",
    "print(valeurs_uniques)\n",
    "print (valeurs_uniques1)\n",
    "\n",
    "\n",
    "# S'assurer que la colonne 'Date' est au format datetime\n",
    "df['Date'] = pd.to_datetime(df['Date'], errors='coerce')\n",
    "\n",
    "# Filtrer pour inclure uniquement les lignes entre le 1er janvier 2018 et le 31 décembre 2024\n",
    "df = df[(df['Date'] >= '2018-01-01') & (df['Date'] <= '2024-12-31')]\n",
    "\n"
   ]
  },
  {
   "cell_type": "code",
   "execution_count": 5,
   "metadata": {},
   "outputs": [
    {
     "name": "stdout",
     "output_type": "stream",
     "text": [
      "0        2.8\n",
      "1        2.8\n",
      "2        2.8\n",
      "3        2.8\n",
      "4        2.8\n",
      "        ... \n",
      "78093    3.5\n",
      "78094    3.5\n",
      "78095    3.5\n",
      "78096    1.0\n",
      "78097    1.0\n",
      "Name: multiplicateurs, Length: 78098, dtype: float64\n"
     ]
    }
   ],
   "source": [
    "\n",
    "# Dictionnaire des multiplicateurs que j'ai créer seule \n",
    "multiplicateurs = {\n",
    "    (0, 0): 0.5, (0, 1): 0.6, (0, 2): 0.7, (0, 3): 0.8, (0, 4): 0.9, (0, 5): 1.0, (0, 6): 1.1,\n",
    "    (1, 0): 1.2, (1, 1): 1.3, (1, 2): 1.4, (1, 3): 1.5, (1, 4): 1.6, (1, 5): 1.7, (1, 6): 1.8,\n",
    "    (2, 0): 1.9, (2, 1): 2.0, (2, 2): 2.2, (2, 3): 2.4, (2, 4): 2.6, (2, 5): 2.8, (2, 6): 3.0,\n",
    "    (3, 0): 3.2, (3, 1): 3.5, (3, 2): 3.8, (3, 3): 4.0, (3, 4): 4.3, (3, 5): 4.6, (3, 6): 5.0\n",
    "}\n",
    "\n",
    "\n",
    "# Fonction pour obtenir le multiplicateur basé sur 'level' et 'grade'\n",
    "def get_multiplicateur(row):\n",
    "    return multiplicateurs.get((row['Grade'], row['Level']), 1.0)  # Valeur par défaut 1.0 si pas trouvé\n",
    "\n",
    "# Appliquer la fonction pour créer la colonne 'multiplicateur'\n",
    "df['multiplicateurs'] = df.apply(get_multiplicateur, axis=1)\n",
    "\n",
    "# Afficher le DataFrame mis à jour\n",
    "print(df['multiplicateurs'])"
   ]
  },
  {
   "cell_type": "code",
   "execution_count": 6,
   "metadata": {},
   "outputs": [
    {
     "name": "stdout",
     "output_type": "stream",
     "text": [
      "    Grade  Level  multiplicateurs\n",
      "0       0      0              0.5\n",
      "1       0      1              0.6\n",
      "2       0      2              0.7\n",
      "3       0      3              0.8\n",
      "4       0      4              0.9\n",
      "5       0      5              1.0\n",
      "6       0      6              1.1\n",
      "7       1      0              1.2\n",
      "8       1      1              1.3\n",
      "9       1      2              1.4\n",
      "10      1      3              1.5\n",
      "11      1      4              1.6\n",
      "12      1      5              1.7\n",
      "13      1      6              1.8\n",
      "14      2      0              1.9\n",
      "15      2      1              2.0\n",
      "16      2      2              2.2\n",
      "17      2      3              2.4\n",
      "18      2      4              2.6\n",
      "19      2      5              2.8\n",
      "20      2      6              3.0\n",
      "21      3      0              3.2\n",
      "22      3      1              3.5\n",
      "23      3      2              3.8\n",
      "24      3      3              4.0\n",
      "25      3      4              4.3\n",
      "26      3      5              4.6\n",
      "27      3      6              5.0\n",
      "Index(['MatchId', 'TournamentId', 'CategoryId', 'Date', 'EventId', 'Round',\n",
      "       'Grade', 'Level', 'Player1Id', 'Player2Id', 'country p1', 'country p2',\n",
      "       'WinnerId', 'winnerCountry', 'Duration', 'ScoreP1', 'ScoreP2',\n",
      "       'ScoreP1Set1', 'ScoreP2Set1', 'ScoreP1Set2', 'ScoreP2Set2',\n",
      "       'ScoreP1Set3', 'ScoreP2Set3', 'points p1', 'points p2', 'Total ',\n",
      "       'RetiredId', 'WalkoverId', 'multiplicateurs'],\n",
      "      dtype='object')\n"
     ]
    }
   ],
   "source": [
    "# Création d'un DataFrame vide avec les colonnes 'grade', 'level' et 'multiplicateur'\n",
    "data = []\n",
    "\n",
    "# Ajouter toutes les combinaisons de grade et level avec leur multiplicateur pour une meilleure visualisation\n",
    "for grade in range(4):\n",
    "    for level in range(7):\n",
    "        data.append([grade, level, multiplicateurs.get((grade, level))])\n",
    "\n",
    "# Créer le DataFrame\n",
    "dff = pd.DataFrame(data, columns=['Grade', 'Level', 'multiplicateurs'])\n",
    "\n",
    "# Affichage du DataFrame\n",
    "print(dff)\n",
    "\n",
    "print(df.columns)\n",
    "\n"
   ]
  },
  {
   "cell_type": "code",
   "execution_count": 7,
   "metadata": {},
   "outputs": [
    {
     "name": "stdout",
     "output_type": "stream",
     "text": [
      "['Qualification round of 16' 'Qualification quarter final' 'Round of 32'\n",
      " 'Round of 16' 'Quarter final' 'Semi final' 'Final'\n",
      " 'Qualification round of 64' 'Qualification round of 32' 'Round of 64'\n",
      " 'Round of 128' '1' '2' '3' nan 'Qualification round of 128' 'Round 1'\n",
      " 'Round 2' 'Round 3' '3rd/4th place' 'Round 4' 'Round 5' 'Round of 256']\n"
     ]
    }
   ],
   "source": [
    "# Afficher les valeurs distinctes d'une colonne (par exemple, 'Round')\n",
    "valeurs_distinctes = df['Round'].unique()\n",
    "\n",
    "# Affichage des valeurs distinctes\n",
    "print(valeurs_distinctes)"
   ]
  },
  {
   "cell_type": "code",
   "execution_count": 9,
   "metadata": {},
   "outputs": [
    {
     "name": "stdout",
     "output_type": "stream",
     "text": [
      "                          Round  Encoded Round\n",
      "0     Qualification round of 16              0\n",
      "1     Qualification round of 16              0\n",
      "2   Qualification quarter final              0\n",
      "3     Qualification round of 16              0\n",
      "4     Qualification round of 16              0\n",
      "5     Qualification round of 16              0\n",
      "6   Qualification quarter final              0\n",
      "7     Qualification round of 16              0\n",
      "8     Qualification round of 16              0\n",
      "9   Qualification quarter final              0\n",
      "10    Qualification round of 16              0\n",
      "11  Qualification quarter final              0\n",
      "12                  Round of 32              4\n",
      "13                  Round of 32              4\n",
      "14                  Round of 32              4\n",
      "15                  Round of 32              4\n",
      "16                  Round of 32              4\n",
      "17                  Round of 32              4\n",
      "18                  Round of 32              4\n",
      "19                  Round of 32              4\n",
      "       Duration  Encoded Duration\n",
      "0          42.0                 2\n",
      "1          55.0                 3\n",
      "2          66.0                 3\n",
      "3          42.0                 2\n",
      "4          37.0                 2\n",
      "...         ...               ...\n",
      "78093      26.0                 1\n",
      "78094      27.0                 1\n",
      "78095      25.0                 1\n",
      "78096      26.0                 1\n",
      "78097      25.0                 1\n",
      "\n",
      "[78098 rows x 2 columns]\n"
     ]
    }
   ],
   "source": [
    "# Dictionnaire de mappage pour encoder les valeurs de la colonne 'Round'\n",
    "mapping = {\n",
    "    'Qualification round of 16': 0,\n",
    "    'Qualification quarter final': 0,\n",
    "    'Qualification round of 64': 0,\n",
    "    'Qualification round of 32': 0,\n",
    "    'Qualification round of 128': 0,\n",
    "    'Round of 256': 1,\n",
    "    'Round of 128': 2,\n",
    "    'Round of 64': 3,\n",
    "    'Round of 32': 4,\n",
    "    'Round of 16': 5,\n",
    "    'Quarter final': 6,\n",
    "    'Semi final': 7,\n",
    "    'Final': 8,\n",
    "    '1': 9,\n",
    "    '2': 9,\n",
    "    '3': 9,\n",
    "    'Round 1': 9,\n",
    "    'Round 2': 9,\n",
    "    'Round 3': 9,\n",
    "    'Round 4': 9,\n",
    "    'Round 5': 9,\n",
    "    '3rd/4th place': 10,\n",
    "    None: -1,  # Pour les valeurs manquantes (nan)\n",
    "    float('nan'): -1  # Encodage pour les NaN si pandas les traite explicitement\n",
    "}\n",
    "\n",
    "# Encodage de la colonne 'Round'\n",
    "df['Encoded Round'] = df['Round'].map(mapping)\n",
    "\n",
    "# Vérification des résultats\n",
    "print(df[['Round', 'Encoded Round']].head(20))\n",
    "\n",
    "\n",
    "\n",
    "# Encodage de la durée en catégories\n",
    "def encode_duration(Duration):\n",
    "    if Duration < 25:\n",
    "        return 0\n",
    "    elif 25 <= Duration <= 35:\n",
    "        return 1\n",
    "    elif 35 < Duration <= 45:\n",
    "        return 2\n",
    "    else:\n",
    "        return 3\n",
    "\n",
    "# Ajouter une colonne encodée pour Duration\n",
    "df['Encoded Duration'] = df['Duration'].apply(encode_duration)\n",
    "\n",
    "# Vérification des résultats\n",
    "print(df[['Duration', 'Encoded Duration']])\n",
    "\n",
    "\n",
    "\n",
    "# Étape 1 : Compter le nombre de victoires cumulées pour chaque joueur\n",
    "victoires_par_joueur = df['WinnerId'].value_counts()\n",
    "\n",
    "# Étape 2 : Associer les victoires cumulées à chaque joueur\n",
    "df['Victoires Cumulées P1'] = df['Player1Id'].map(victoires_par_joueur).fillna(0).astype(int)\n",
    "df['Victoires Cumulées P2'] = df['Player2Id'].map(victoires_par_joueur).fillna(0).astype(int)\n",
    "\n",
    "# Étape 3 : Fonction pour classer les joueurs\n",
    "def classer_joueur(victoires):\n",
    "    if victoires <= 3:\n",
    "        return 0  # Pas bon\n",
    "    elif 4 <= victoires <= 6:\n",
    "        return 1  # Moyennement bon\n",
    "    elif 7 <= victoires <= 10:\n",
    "        return 2  # Bon\n",
    "    else:\n",
    "        return 3  # Très bon\n",
    "\n",
    "# Ajouter les colonnes de classement\n",
    "df['Classement P1'] = df['Victoires Cumulées P1'].apply(classer_joueur)\n",
    "df['Classement P2'] = df['Victoires Cumulées P2'].apply(classer_joueur)\n",
    "\n",
    "\n",
    "\n",
    "\n",
    "\n",
    "df['Base Points'] = df['multiplicateurs'] * 10  # j'ai posé 10 pour un base que je multiplie par les multiplicateurs précedement calculé , en fonction du level et degré de l'épreuve \n",
    "df['PRG P1'] = df ['points p1'] / df ['Total '] # ces sdeux colonnes representent le ration des points , nombre de points marque par le joueur sur le total des points marqué par les deux joueurs \n",
    "df['PRG P2'] = df ['points p2'] / df ['Total ']\n",
    "\n",
    "\n"
   ]
  },
  {
   "cell_type": "code",
   "execution_count": 66,
   "metadata": {},
   "outputs": [
    {
     "name": "stdout",
     "output_type": "stream",
     "text": [
      "0        0\n",
      "1        0\n",
      "2        0\n",
      "3        0\n",
      "4        0\n",
      "        ..\n",
      "78093    0\n",
      "78094    0\n",
      "78095    0\n",
      "78096    4\n",
      "78097    5\n",
      "Name: Encoded Round, Length: 78098, dtype: int64\n"
     ]
    }
   ],
   "source": []
  },
  {
   "cell_type": "code",
   "execution_count": 10,
   "metadata": {},
   "outputs": [
    {
     "name": "stdout",
     "output_type": "stream",
     "text": [
      "   Player1Id  Player2Id  WinnerId  Nouveau Score P1  Nouveau Score P2\n",
      "0      12799      12787     12787        963.675676       1047.675676\n",
      "1      12769      12776     12776        950.720000       1062.720000\n",
      "2      12821      12787     12821       1056.486957        992.162632\n",
      "3      12821      12784     12821       1104.815724        964.328767\n",
      "4      12798      12792     12792        965.690141       1049.690141\n",
      "5      12766      12811     12766       1045.073171        961.073171\n",
      "6      12766      12785     12766       1079.160127        978.086957\n",
      "7      12767      12785     12785        946.352941       1036.439898\n",
      "8      12764      12782     12764       1048.328767        964.328767\n",
      "9      12802      12764     12802       1064.842105       1001.170872\n"
     ]
    }
   ],
   "source": [
    "# Initialisation du score de base pour tous les joueurs\n",
    "scores = {player: 1000 for player in set(df['Player1Id']).union(set(df['Player2Id']))}\n",
    "\n",
    "# Fonction pour calculer le coefficient adversaire\n",
    "def coef_adversaire(winner_class, loser_class):\n",
    "    if winner_class > loser_class:\n",
    "        return 1.1\n",
    "    elif winner_class < loser_class:\n",
    "        return 0.9\n",
    "    else:\n",
    "        return 1.0\n",
    "\n",
    "# Calcul du nouveau score pour chaque match\n",
    "def calculer_nouveau_score(row):\n",
    "    global scores  # Utiliser le dictionnaire global des scores\n",
    "    p1 = row['Player1Id']\n",
    "    p2 = row['Player2Id']\n",
    "    winner = row['WinnerId']\n",
    "    \n",
    "    # Ancien scores\n",
    "    score_p1 = scores.get(p1, 1000)\n",
    "    score_p2 = scores.get(p2, 1000)\n",
    "    \n",
    "    # Points calculés\n",
    "    base_points = row['Base Points']\n",
    "    points_tour = row['Encoded Round']\n",
    "    points_temps = 1 + row['Encoded Duration']\n",
    "    prg_p1 = row['PRG P1']\n",
    "    prg_p2 = row['PRG P2']\n",
    "    \n",
    "    # Coefficients adversaire\n",
    "    coef_p1 = coef_adversaire(row['Classement P1'], row['Classement P2'])\n",
    "    coef_p2 = coef_adversaire(row['Classement P2'], row['Classement P1'])\n",
    "    \n",
    "    # Calcul du nouveau score\n",
    "    if winner == p1:\n",
    "        nouveau_score_p1 = score_p1 + (base_points + points_tour) * prg_p1 * points_temps * coef_p1\n",
    "        nouveau_score_p2 = score_p2 - (base_points + points_tour) * prg_p2 * points_temps * coef_p2\n",
    "    elif winner == p2:\n",
    "        nouveau_score_p2 = score_p2 + (base_points + points_tour) * prg_p2 * points_temps * coef_p2\n",
    "        nouveau_score_p1 = score_p1 - (base_points + points_tour) * prg_p1 * points_temps * coef_p1\n",
    "    else:\n",
    "        nouveau_score_p1, nouveau_score_p2 = score_p1, score_p2  # Aucun changement\n",
    "    \n",
    "    # Mise à jour des scores globaux\n",
    "    scores[p1] = max(0, nouveau_score_p1)\n",
    "    scores[p2] = max(0, nouveau_score_p2)\n",
    "    \n",
    "    return nouveau_score_p1, nouveau_score_p2\n",
    "\n",
    "# Appliquer la fonction pour chaque match\n",
    "df[['Nouveau Score P1', 'Nouveau Score P2']] = df.apply(calculer_nouveau_score, axis=1, result_type='expand')\n",
    "\n",
    "# Affichage des résultats\n",
    "print(df[['Player1Id', 'Player2Id', 'WinnerId', 'Nouveau Score P1', 'Nouveau Score P2']].head(10))\n"
   ]
  },
  {
   "cell_type": "code",
   "execution_count": null,
   "metadata": {},
   "outputs": [],
   "source": []
  },
  {
   "cell_type": "code",
   "execution_count": 12,
   "metadata": {},
   "outputs": [],
   "source": [
    "df['Victory P1'] = df['WinnerId'] == df['Player1Id']\n",
    "y = df['Victory P1']  # Cible de la régression logistique\n",
    "X = df[[ 'Encoded Round', 'Encoded Duration',\n",
    "        'Victoires Cumulées P1', 'Victoires Cumulées P2', \n",
    "        ]]\n"
   ]
  },
  {
   "cell_type": "code",
   "execution_count": 13,
   "metadata": {},
   "outputs": [
    {
     "name": "stdout",
     "output_type": "stream",
     "text": [
      "Encoded Round            0\n",
      "Encoded Duration         0\n",
      "Victoires Cumulées P1    0\n",
      "Victoires Cumulées P2    0\n",
      "dtype: int64\n",
      "0\n"
     ]
    }
   ],
   "source": [
    "# Vérifier la présence de NaN dans les données\n",
    "print(X.isna().sum())  # Pour X\n",
    "print(y.isna().sum())  # Pour y\n",
    "\n",
    "\n",
    "\n"
   ]
  },
  {
   "cell_type": "code",
   "execution_count": 14,
   "metadata": {},
   "outputs": [
    {
     "name": "stdout",
     "output_type": "stream",
     "text": [
      "Encoded Round            0\n",
      "Encoded Duration         0\n",
      "Victoires Cumulées P1    0\n",
      "Victoires Cumulées P2    0\n",
      "dtype: int64\n",
      "0\n"
     ]
    }
   ],
   "source": [
    "X = X.fillna(0)\n",
    "print(X.isna().sum())  # Pour X\n",
    "print(y.isna().sum()) "
   ]
  },
  {
   "cell_type": "code",
   "execution_count": 16,
   "metadata": {},
   "outputs": [
    {
     "name": "stdout",
     "output_type": "stream",
     "text": [
      "Accuracy: 72.39%\n",
      "Coefficients du modèle :  [[ 0.03581334 -0.01890036  1.13039586 -1.05911137]]\n"
     ]
    }
   ],
   "source": [
    "from sklearn.model_selection import train_test_split\n",
    "from sklearn.linear_model import LogisticRegression\n",
    "from sklearn.metrics import accuracy_score\n",
    "from sklearn.preprocessing import StandardScaler\n",
    "\n",
    "# Diviser les données en ensembles d'entraînement et de test\n",
    "X_train, X_test, y_train, y_test = train_test_split(X, y, test_size=0.2, random_state=42)\n",
    "\n",
    "# Standardiser les données\n",
    "scaler = StandardScaler()\n",
    "X_train_scaled = scaler.fit_transform(X_train)\n",
    "X_test_scaled = scaler.transform(X_test)\n",
    "\n",
    "# Initialiser le modèle de régression logistique avec max_iter=1000 et le solveur 'liblinear'\n",
    "model = LogisticRegression(max_iter=1000, solver='liblinear')\n",
    "\n",
    "# Entraîner le modèle\n",
    "model.fit(X_train_scaled, y_train)\n",
    "\n",
    "# Faire des prédictions\n",
    "y_pred = model.predict(X_test_scaled)\n",
    "\n",
    "# Calculer l'accuracy\n",
    "accuracy = accuracy_score(y_test, y_pred)\n",
    "print(f\"Accuracy: {accuracy * 100:.2f}%\")\n",
    "# Afficher les coefficients du modèle pour évaluer l'importance des caractéristiques\n",
    "print(\"Coefficients du modèle : \", model.coef_)\n",
    "\n",
    "\n"
   ]
  },
  {
   "cell_type": "code",
   "execution_count": 17,
   "metadata": {},
   "outputs": [
    {
     "name": "stdout",
     "output_type": "stream",
     "text": [
      "Encoded Round            0\n",
      "Encoded Duration         0\n",
      "Victoires Cumulées P1    0\n",
      "Victoires Cumulées P2    0\n",
      "PRG P1                   0\n",
      "PRG P2                   0\n",
      "dtype: int64\n"
     ]
    }
   ],
   "source": [
    "X = df[[ 'Encoded Round', 'Encoded Duration',\n",
    "        'Victoires Cumulées P1', 'Victoires Cumulées P2', \n",
    "        'PRG P1', 'PRG P2']]\n",
    "\n",
    "X = X.fillna(0)\n",
    "print(X.isna().sum())\n"
   ]
  },
  {
   "cell_type": "code",
   "execution_count": 18,
   "metadata": {},
   "outputs": [
    {
     "name": "stdout",
     "output_type": "stream",
     "text": [
      "Accuracy: 95.40%\n",
      "Coefficients du modèle :  [[ 0.00794554 -0.02654474  0.16776826 -0.13150767  6.702039   -6.66760379]]\n"
     ]
    }
   ],
   "source": [
    "# Diviser les données en ensembles d'entraînement et de test\n",
    "X_train, X_test, y_train, y_test = train_test_split(X, y, test_size=0.2, random_state=42)\n",
    "\n",
    "# Standardiser les données\n",
    "scaler = StandardScaler()\n",
    "X_train_scaled = scaler.fit_transform(X_train)\n",
    "X_test_scaled = scaler.transform(X_test)\n",
    "\n",
    "# Initialiser le modèle de régression logistique avec max_iter=1000 et le solveur 'liblinear'\n",
    "model = LogisticRegression(max_iter=1000, solver='liblinear')\n",
    "\n",
    "# Entraîner le modèle\n",
    "model.fit(X_train_scaled, y_train)\n",
    "\n",
    "# Faire des prédictions\n",
    "y_pred = model.predict(X_test_scaled)\n",
    "\n",
    "# Calculer l'accuracy\n",
    "accuracy = accuracy_score(y_test, y_pred)\n",
    "print(f\"Accuracy: {accuracy * 100:.2f}%\")\n",
    "# Afficher les coefficients du modèle pour évaluer l'importance des caractéristiques\n",
    "print(\"Coefficients du modèle : \", model.coef_)\n"
   ]
  },
  {
   "cell_type": "code",
   "execution_count": 86,
   "metadata": {},
   "outputs": [],
   "source": [
    "\n"
   ]
  }
 ],
 "metadata": {
  "kernelspec": {
   "display_name": "base",
   "language": "python",
   "name": "python3"
  },
  "language_info": {
   "codemirror_mode": {
    "name": "ipython",
    "version": 3
   },
   "file_extension": ".py",
   "mimetype": "text/x-python",
   "name": "python",
   "nbconvert_exporter": "python",
   "pygments_lexer": "ipython3",
   "version": "3.12.4"
  }
 },
 "nbformat": 4,
 "nbformat_minor": 4
}
